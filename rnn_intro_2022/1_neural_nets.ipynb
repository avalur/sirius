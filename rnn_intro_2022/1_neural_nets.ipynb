{
 "cells": [
  {
   "cell_type": "markdown",
   "metadata": {
    "slideshow": {
     "slide_type": "slide"
    }
   },
   "source": [
    "<div align=\"center\">\n",
    "    <img src=\"images/logo_fmkn.png\" alt=\"logo_fmkn\" />\n",
    "</div>\n",
    "\n",
    "# Введение в рекуррентные нейронные сети\n",
    "\n",
    "### Занятие 1. Введение в нейронные сети\n",
    "\n",
    "<br />\n",
    "<br />\n",
    "10 января 2022"
   ]
  },
  {
   "cell_type": "markdown",
   "metadata": {
    "slideshow": {
     "slide_type": "subslide"
    }
   },
   "source": [
    "### Задачи, решаемые нейросетями"
   ]
  },
  {
   "cell_type": "markdown",
   "metadata": {
    "slideshow": {
     "slide_type": "subslide"
    }
   },
   "source": [
    "<table style=\"width:100%\">\n",
    "  <tr>\n",
    "    <td><div align=\"center\">\n",
    "        Картинки\n",
    "        <img src=\"images/image_net.jpg\" />\n",
    "        25% $\\to$ 3.5% ошибок против 5% у людей\n",
    "        </div>\n",
    "    </td>\n",
    "    <td><div align=\"center\">\n",
    "        Текст\n",
    "        <img src=\"images/machine_translation.png\"/>\n",
    "        </div>\n",
    "    </td>\n",
    "    <td><div align=\"center\">\n",
    "        Голос\n",
    "        <img src=\"images/voice.jpg\"/>\n",
    "        </div>\n",
    "    </td>\n",
    "  </tr>\n",
    "  <tr>\n",
    "    <td><div align=\"center\">\n",
    "        Го, 2016\n",
    "        <img src=\"images/alpha_go.jpg\"/>\n",
    "        </div>\n",
    "    </td>\n",
    "    <td><div align=\"center\">\n",
    "        StarCraft, 2019\n",
    "        <img src=\"images/starcraft.png\"/>\n",
    "        </div>\n",
    "    </td>\n",
    "    <td><div align=\"center\">\n",
    "        Структура белка, 2020\n",
    "        <img src=\"images/AlphaFold.png\"/>\n",
    "        </div>\n",
    "    </td>\n",
    "  </tr>\n"
   ]
  },
  {
   "cell_type": "markdown",
   "metadata": {
    "slideshow": {
     "slide_type": "subslide"
    }
   },
   "source": [
    "<div align=\"center\">\n",
    "    <img src=\"images/imagenet_progress_pwc.jpeg\" alt=\"logo_fmkn\" />\n",
    "    <a href=\"https://paperswithcode.com/sota/image-classification-on-imagenet\">\n",
    "        https://paperswithcode.com/sota/image-classification-on-imagenet</a> \n",
    "</div>"
   ]
  },
  {
   "cell_type": "markdown",
   "metadata": {
    "slideshow": {
     "slide_type": "subslide"
    }
   },
   "source": [
    "<div align=\"center\">\n",
    "    <img src=\"images/QA_progress.jpeg\" />\n",
    "    <a href=\"https://paperswithcode.com/sota/question-answering-on-wikiqa\">\n",
    "        https://paperswithcode.com/sota/question-answering-on-wikiqa</a> \n",
    "</div>"
   ]
  },
  {
   "cell_type": "markdown",
   "metadata": {
    "slideshow": {
     "slide_type": "subslide"
    }
   },
   "source": [
    "### Линейная модель\n",
    "\n",
    " $f_j: X \\to \\mathbb{R}$ — числовые признаки\n",
    " \n",
    " $a(x, w) = \\sigma(\\left<w, x\\right>) = \\sigma \\left(\\sum\\limits_{j=1}^n w_j f_j(x) - w_0 \\right)$, \n",
    " \n",
    " \n",
    " где $w_1, \\dots, w_n \\in \\mathbb{R}$ — веса признаков, $w_0$ — порог активации\n",
    " \n",
    " $\\sigma(z)$ — функция активации, например, $\\text{sign}(z),\\ \\frac{1}{1+e^{-z}},\\ (z)_+$\n",
    "\n",
    "<div align=\"center\">\n",
    "    <img src=\"images/lin_as_nn.jpg\" alt=\"lin_as_nn\" width=600 />\n",
    "</div>\n"
   ]
  },
  {
   "cell_type": "markdown",
   "metadata": {
    "slideshow": {
     "slide_type": "subslide"
    }
   },
   "source": [
    "<div align=\"center\">\n",
    "    <img src=\"images/460px-Neuron-rus.png\" alt=\"nueron_ru\" width=800 />\n",
    "</div>"
   ]
  },
  {
   "cell_type": "markdown",
   "metadata": {
    "slideshow": {
     "slide_type": "subslide"
    }
   },
   "source": [
    "### Нейронная сеть как комбинация линейных моделей\n",
    "\n",
    "<div align=\"center\">\n",
    "    <img src=\"images/nn_two_layers_cropped.jpg\" alt=\"nn_two_layers_cropped\" width=1000 />\n",
    "</div>\n"
   ]
  },
  {
   "cell_type": "code",
   "execution_count": 2,
   "metadata": {
    "slideshow": {
     "slide_type": "subslide"
    }
   },
   "outputs": [],
   "source": [
    "import tensorflow.keras as keras\n",
    "\n",
    "(x_train, y_train), (x_test, y_test) = keras.datasets.mnist.load_data()"
   ]
  },
  {
   "cell_type": "code",
   "execution_count": 3,
   "metadata": {
    "slideshow": {
     "slide_type": "subslide"
    }
   },
   "outputs": [
    {
     "data": {
      "image/png": "[encoded data removed]",
      "text/plain": [
       "<Figure size 1296x576 with 6 Axes>"
      ]
     },
     "metadata": {
      "needs_background": "light"
     },
     "output_type": "display_data"
    }
   ],
   "source": [
    "import matplotlib.pyplot as plt\n",
    "import matplotlib\n",
    "\n",
    "fig, gs = plt.figure(figsize=(18, 8)), matplotlib.gridspec.GridSpec(2, 3)\n",
    "\n",
    "for i in range(6):\n",
    "    plot = fig.add_subplot(gs[i])\n",
    "    plot.imshow(x_train[i], cmap='gray') # cmap='gray_r'\n",
    "\n",
    "plt.show()"
   ]
  },
  {
   "cell_type": "code",
   "execution_count": 18,
   "metadata": {
    "slideshow": {
     "slide_type": "subslide"
    }
   },
   "outputs": [
    {
     "data": {
      "text/plain": [
       "(60000, 28, 28)"
      ]
     },
     "execution_count": 18,
     "metadata": {},
     "output_type": "execute_result"
    }
   ],
   "source": [
    "x_train.shape"
   ]
  },
  {
   "cell_type": "code",
   "execution_count": 22,
   "metadata": {
    "slideshow": {
     "slide_type": "fragment"
    }
   },
   "outputs": [
    {
     "data": {
      "text/plain": [
       "array([  0,   0,   0,   0,   0,   0,   0,   0,   0,   0,   0,   0,   3,\n",
       "        18,  18,  18, 126, 136, 175,  26, 166, 255, 247, 127,   0,   0,\n",
       "         0,   0], dtype=uint8)"
      ]
     },
     "execution_count": 22,
     "metadata": {},
     "output_type": "execute_result"
    }
   ],
   "source": [
    "x_train[0, 5]"
   ]
  },
  {
   "cell_type": "markdown",
   "metadata": {
    "slideshow": {
     "slide_type": "subslide"
    }
   },
   "source": [
    "<div align=\"center\">\n",
    "    <img src=\"images/cnn_architecture.jpg\" width=800 />\n",
    "    <a href=\"https://www.pyimagesearch.com/wp-content/uploads/2014/06/cnn_architecture.jpg\">\n",
    "        Source</a> \n",
    "</div>"
   ]
  },
  {
   "cell_type": "markdown",
   "metadata": {
    "slideshow": {
     "slide_type": "subslide"
    }
   },
   "source": [
    "### Линейный классификатор\n",
    "\n",
    "Предсказание $$ \\text{y_pred} = x \\cdot W + b $$\n",
    "\n",
    "<div align=\"center\">\n",
    "    <img src=\"images/linear_classification_scheme.jpg\" width=700/>\n",
    "    $x\\quad\\quad\\quad\\cdot\\quad W\\quad\\quad\\quad+\\quad b$\n",
    "</div>\n"
   ]
  },
  {
   "cell_type": "markdown",
   "metadata": {
    "slideshow": {
     "slide_type": "subslide"
    }
   },
   "source": [
    "### Десять разделяющих плоскостей\n",
    "\n",
    "<div align=\"center\">\n",
    "    <img src=\"images/2D_example.jpg\" width=800/>\n",
    "</div>\n",
    "\n",
    " * В нашем примере пространство 784-мерное ($\\mathbb{R}^{784}$)\n"
   ]
  },
  {
   "cell_type": "markdown",
   "metadata": {
    "slideshow": {
     "slide_type": "subslide"
    }
   },
   "source": [
    "<div class=\"alert alert-info\">\n",
    "<b>Вопрос 1:</b> Как найти лучшие параметры: матрицу весов $W$ и смещение $b$?\n",
    "</div>"
   ]
  },
  {
   "cell_type": "markdown",
   "metadata": {
    "slideshow": {
     "slide_type": "fragment"
    }
   },
   "source": [
    "Если бы $\\text{y_true}_i \\in \\mathbb{R}$, то есть задача линейной регресии, то для минимизации суммы квадратов разностей (метод наименьших квадратов) ответ вычисляется **аналитически** формулой:\n",
    "$$\\hat{W} = (X^TX)^{-1}X^T\\text{y_true}$$"
   ]
  },
  {
   "cell_type": "markdown",
   "metadata": {
    "slideshow": {
     "slide_type": "fragment"
    }
   },
   "source": [
    "В общем случае решается **численно** минимизацией функции потерь. Чаще всего градиентным спуском (gradient descent).\n",
    "\n",
    "<div align=\"center\">\n",
    "    <img src=\"images/momentum.jpg\" width=900/>\n",
    "</div>\n",
    "\n",
    "[Distill.pub momentum](https://distill.pub/2017/momentum/)"
   ]
  },
  {
   "cell_type": "markdown",
   "metadata": {
    "slideshow": {
     "slide_type": "subslide"
    }
   },
   "source": [
    "### Softmax — для классификации\n",
    "\n",
    "Переводим наши ответы линейной модели в вероятности классов:\n",
    "\n",
    "$$ p(c=0| x) = \\frac{e^{y_0}}{e^{y_0}+e^{y_1}+\\dots+e^{y_n}} = \\frac{e^{y_0}}{\\sum\\limits_i e^{y_i}} \\\\\n",
    "   p(c=1| x) = \\frac{e^{y_1}}{e^{y_0}+e^{y_1}+\\dots+e^{y_n}} = \\frac{e^{y_1}}{\\sum\\limits_i e^{y_i}} \\\\\n",
    "   \\dots\n",
    "$$\n"
   ]
  },
  {
   "cell_type": "markdown",
   "metadata": {
    "slideshow": {
     "slide_type": "subslide"
    }
   },
   "source": [
    "### Принцип максимального правдоподобия\n",
    "\n",
    "$\\arg\\max\\limits_w {P(Y|w, X)P(w)} \\color{red}{=} \\arg\\max\\limits_w \\prod\\limits_{i=1}^\\ell {P(y_i|w, x_i)P(w)} = \\\\ \\arg\\max\\limits_w \\sum\\limits_{i=1}^l \\log P(y_i|w, x_i) + \\log P(w)$\n",
    "\n",
    "\n",
    "### Минимизация функции потерь\n",
    "\n",
    "$$L(w) = \\sum\\limits_{i=1}^\\ell {\\mathcal{L}(y_i, x_i, w)} = -\\ln P(y_i|w, x_i) \\to \\min\\limits_w$$\n",
    "\n",
    " * это cross-entropy loss для случая $y_i \\in \\{0, 1\\}$\n",
    " * в нашем случае\n",
    "\n",
    "$$ L(W, b) = - \\sum\\limits_j \\ln \\frac{e^{(x_jW + b)_{y_j}}}{\\sum\\limits_i e^{(x_jW + b)_{i}}}$$\n",
    "\n",
    " * минимум функции находим стохастическим градиентным спуском\n",
    "\n",
    "$$ W^{k+1} = W^{k} - \\eta \\frac{\\partial L}{\\partial W} \\\\\n",
    "   b^{k+1} = b^{k} - \\eta \\frac{\\partial L}{\\partial b}$$\n",
    "\n"
   ]
  },
  {
   "cell_type": "markdown",
   "metadata": {
    "slideshow": {
     "slide_type": "subslide"
    }
   },
   "source": [
    "### Регуляризация\n",
    "\n",
    "$$ L(W, b) = - \\sum\\limits_j \\ln \\frac{e^{(x_jW + b)_{y_j}}}{\\sum\\limits_i e^{(x_jW + b)_{i}}} + \\lambda R(W, b) \\\\\n",
    "   R(W, b) = \\|W\\|_2^2 + \\|b\\|_2^2 \\\\\n",
    "   \\|b\\|_2^2 = b_0^2 + \\dots + b_k^2\n",
    "$$\n",
    "\n",
    "<div align=\"center\">\n",
    "    <img src=\"images/regularization.png\" width=400/>\n",
    "</div>\n"
   ]
  },
  {
   "cell_type": "markdown",
   "metadata": {
    "slideshow": {
     "slide_type": "subslide"
    }
   },
   "source": [
    "### Однослойная нейросеть для классификации\n",
    "\n",
    "Для построения нейронной сети на Python воспользуемся библиотекой keras. Это в свою очередь высокоуровневая надстройка над tensorflow. Большим ее преимуществом является интерфейс, совместимый с sklearn."
   ]
  },
  {
   "cell_type": "code",
   "execution_count": 4,
   "metadata": {
    "slideshow": {
     "slide_type": "fragment"
    }
   },
   "outputs": [],
   "source": [
    "model = keras.Sequential([\n",
    "    keras.layers.Flatten(),\n",
    "    keras.layers.Dense(10, activation='softmax')\n",
    "])\n",
    "model.compile(optimizer='sgd', loss='sparse_categorical_crossentropy', metrics=['accuracy'])"
   ]
  },
  {
   "cell_type": "markdown",
   "metadata": {
    "slideshow": {
     "slide_type": "fragment"
    }
   },
   "source": [
    "Для того, чтобы градиенты были более стабильными, поделим входные данные на 255 (чтобы они были из диапозона [0,1]). И запустим обучение."
   ]
  },
  {
   "cell_type": "code",
   "execution_count": 5,
   "metadata": {
    "slideshow": {
     "slide_type": "fragment"
    }
   },
   "outputs": [
    {
     "name": "stdout",
     "output_type": "stream",
     "text": [
      "Epoch 1/20\n",
      "1875/1875 [==============================] - 2s 927us/step - loss: 0.7753 - accuracy: 0.8154\n",
      "Epoch 2/20\n",
      "1875/1875 [==============================] - 2s 891us/step - loss: 0.4549 - accuracy: 0.8805\n",
      "Epoch 3/20\n",
      "1875/1875 [==============================] - 2s 862us/step - loss: 0.4023 - accuracy: 0.8912\n",
      "Epoch 4/20\n",
      "1875/1875 [==============================] - 2s 823us/step - loss: 0.3760 - accuracy: 0.8967\n",
      "Epoch 5/20\n",
      "1875/1875 [==============================] - 2s 1ms/step - loss: 0.3594 - accuracy: 0.9007\n",
      "Epoch 6/20\n",
      "1875/1875 [==============================] - 2s 824us/step - loss: 0.3476 - accuracy: 0.9034\n",
      "Epoch 7/20\n",
      "1875/1875 [==============================] - 2s 825us/step - loss: 0.3387 - accuracy: 0.9055\n",
      "Epoch 8/20\n",
      "1875/1875 [==============================] - 2s 824us/step - loss: 0.3315 - accuracy: 0.9075\n",
      "Epoch 9/20\n",
      "1875/1875 [==============================] - 2s 1ms/step - loss: 0.3257 - accuracy: 0.9092\n",
      "Epoch 10/20\n",
      "1875/1875 [==============================] - 2s 1ms/step - loss: 0.3209 - accuracy: 0.9105\n",
      "Epoch 11/20\n",
      "1875/1875 [==============================] - 2s 905us/step - loss: 0.3167 - accuracy: 0.9117\n",
      "Epoch 12/20\n",
      "1875/1875 [==============================] - 2s 1ms/step - loss: 0.3130 - accuracy: 0.9129\n",
      "Epoch 13/20\n",
      "1875/1875 [==============================] - 2s 957us/step - loss: 0.3099 - accuracy: 0.9136\n",
      "Epoch 14/20\n",
      "1875/1875 [==============================] - 2s 937us/step - loss: 0.3070 - accuracy: 0.9147\n",
      "Epoch 15/20\n",
      "1875/1875 [==============================] - 2s 938us/step - loss: 0.3044 - accuracy: 0.9150\n",
      "Epoch 16/20\n",
      "1875/1875 [==============================] - 2s 847us/step - loss: 0.3022 - accuracy: 0.9153\n",
      "Epoch 17/20\n",
      "1875/1875 [==============================] - 2s 874us/step - loss: 0.3000 - accuracy: 0.9165\n",
      "Epoch 18/20\n",
      "1875/1875 [==============================] - 2s 976us/step - loss: 0.2981 - accuracy: 0.9171\n",
      "Epoch 19/20\n",
      "1875/1875 [==============================] - 2s 887us/step - loss: 0.2964 - accuracy: 0.9177\n",
      "Epoch 20/20\n",
      "1875/1875 [==============================] - 2s 1ms/step - loss: 0.2947 - accuracy: 0.9180\n"
     ]
    },
    {
     "data": {
      "text/plain": [
       "<keras.callbacks.History at 0x18500ca8388>"
      ]
     },
     "execution_count": 5,
     "metadata": {},
     "output_type": "execute_result"
    }
   ],
   "source": [
    "model.fit(x_train.astype(\"float32\") / 255, y_train, epochs=20)"
   ]
  },
  {
   "cell_type": "markdown",
   "metadata": {
    "slideshow": {
     "slide_type": "subslide"
    }
   },
   "source": [
    "<div align=\"center\">\n",
    "    <img src=\"images/kot-spit-mem.jpeg\" width=900/>\n",
    "</div>"
   ]
  },
  {
   "cell_type": "markdown",
   "metadata": {
    "slideshow": {
     "slide_type": "subslide"
    }
   },
   "source": [
    "<div class=\"alert alert-info\">\n",
    "<b>Вопрос 2:</b> Какое качество получилось?\n",
    "</div>"
   ]
  },
  {
   "cell_type": "code",
   "execution_count": 6,
   "metadata": {
    "slideshow": {
     "slide_type": "fragment"
    }
   },
   "outputs": [
    {
     "data": {
      "text/plain": [
       "array([7, 2, 1, ..., 4, 5, 6], dtype=int64)"
      ]
     },
     "execution_count": 6,
     "metadata": {},
     "output_type": "execute_result"
    }
   ],
   "source": [
    "import numpy as np\n",
    "\n",
    "np.argmax(model.predict(x_test.astype(\"float32\") / 255), axis=1)"
   ]
  },
  {
   "cell_type": "code",
   "execution_count": 7,
   "metadata": {
    "slideshow": {
     "slide_type": "fragment"
    }
   },
   "outputs": [
    {
     "data": {
      "text/plain": [
       "0.9201"
      ]
     },
     "execution_count": 7,
     "metadata": {},
     "output_type": "execute_result"
    }
   ],
   "source": [
    "from sklearn.metrics import accuracy_score\n",
    "\n",
    "accuracy_score(np.argmax(model.predict(x_test.astype(\"float32\") / 255), axis=1), y_test)"
   ]
  },
  {
   "cell_type": "code",
   "execution_count": 8,
   "metadata": {
    "slideshow": {
     "slide_type": "fragment"
    }
   },
   "outputs": [
    {
     "name": "stdout",
     "output_type": "stream",
     "text": [
      "Model: \"sequential\"\n",
      "_________________________________________________________________\n",
      "Layer (type)                 Output Shape              Param #   \n",
      "=================================================================\n",
      "flatten (Flatten)            (None, 784)               0         \n",
      "_________________________________________________________________\n",
      "dense (Dense)                (None, 10)                7850      \n",
      "=================================================================\n",
      "Total params: 7,850\n",
      "Trainable params: 7,850\n",
      "Non-trainable params: 0\n",
      "_________________________________________________________________\n"
     ]
    }
   ],
   "source": [
    "model.summary()"
   ]
  },
  {
   "cell_type": "markdown",
   "metadata": {
    "slideshow": {
     "slide_type": "subslide"
    }
   },
   "source": [
    "### Резюме\n",
    "\n",
    " * Нейрон = линейная классификация или регрессия\n",
    " * Нейронная сеть = суперпозиция нейронов с нелинейной функцией активации\n",
    " * Глубокое обучение покоряет мир"
   ]
  }
 ],
 "metadata": {
  "celltoolbar": "Slideshow",
  "kernelspec": {
   "display_name": "Python 3",
   "language": "python",
   "name": "python3"
  },
  "language_info": {
   "codemirror_mode": {
    "name": "ipython",
    "version": 3
   },
   "file_extension": ".py",
   "mimetype": "text/x-python",
   "name": "python",
   "nbconvert_exporter": "python",
   "pygments_lexer": "ipython3",
   "version": "3.7.6"
  }
 },
 "nbformat": 4,
 "nbformat_minor": 2
}
