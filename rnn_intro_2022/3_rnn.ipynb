{
 "cells": [
  {
   "cell_type": "markdown",
   "metadata": {
    "slideshow": {
     "slide_type": "slide"
    }
   },
   "source": [
    "<div align=\"center\">\n",
    "    <img src=\"images/logo_fmkn.png\" alt=\"logo_fmkn\" />\n",
    "</div>\n",
    "\n",
    "# Введение в рекуррентные нейронные сети\n",
    "\n",
    "### Занятие 3. Собственно рекуррентные нейронные сети\n",
    "\n",
    "<br />\n",
    "<br />\n",
    "17-18 января 2022"
   ]
  },
  {
   "cell_type": "markdown",
   "metadata": {
    "slideshow": {
     "slide_type": "subslide"
    }
   },
   "source": [
    "### Недостатки (сверточных) нейронных сетей или зачем нужны рекуррентные\n",
    "\n",
    " * на входе только вектора фиксированной размерности (например, изображения 28x28)\n",
    " * на выходе тоже размерность фиксирована (например, вероятности классов)\n",
    " * фиксированное число вычислительных шагов (т.е. архитектура сети)\n",
    "\n",
    "<div align=\"center\">\n",
    "    <img src=\"images/rnn_architectures.jpg\" alt=\"rnn_architectures\" width=1000 />\n",
    "</div>\n",
    "\n",
    "[A. Karpathy. The Unreasonable Effectiveness of Recurrent Neural Networks](http://karpathy.github.io/2015/05/21/rnn-effectiveness/)"
   ]
  },
  {
   "cell_type": "markdown",
   "metadata": {
    "slideshow": {
     "slide_type": "subslide"
    }
   },
   "source": [
    "<div align=\"center\">\n",
    "    <img src=\"images/one-to-one.jpg\" width=100 />\n",
    "    Vanilla Neural Networks\n",
    "</div>"
   ]
  },
  {
   "cell_type": "markdown",
   "metadata": {
    "slideshow": {
     "slide_type": "subslide"
    }
   },
   "source": [
    "<div align=\"center\">\n",
    "    <img src=\"images/one-to-many.jpg\" width=200 />\n",
    "    $\\text{Image Captioning} \\\\\n",
    "     (\\text{image} \\to \\text{sequence of words})$\n",
    "</div>"
   ]
  },
  {
   "cell_type": "markdown",
   "metadata": {
    "slideshow": {
     "slide_type": "subslide"
    }
   },
   "source": [
    "<div align=\"center\">\n",
    "    <img src=\"images/many-to-one.jpg\" width=200 />\n",
    "    $\\text{Sentiment Classification} \\\\ \n",
    "     (\\text{sequence of words} \\to \\text{sentiment})$\n",
    "</div>"
   ]
  },
  {
   "cell_type": "markdown",
   "metadata": {
    "slideshow": {
     "slide_type": "subslide"
    }
   },
   "source": [
    "<div align=\"center\">\n",
    "    <img src=\"images/many-to-many.jpg\" width=300 />\n",
    "    $\\text{Machine Translation} \\\\ \n",
    "     (\\text{seq of words} \\to \\text{seq of words})$\n",
    "</div>"
   ]
  },
  {
   "cell_type": "markdown",
   "metadata": {
    "slideshow": {
     "slide_type": "subslide"
    }
   },
   "source": [
    "<div align=\"center\">\n",
    "    <img src=\"images/many-to-many-2.jpg\" width=200 />\n",
    "    $\\text{Video Classification} \\\\ \n",
    "     (\\text{on frame level})$\n",
    "</div>\n"
   ]
  },
  {
   "cell_type": "markdown",
   "metadata": {
    "slideshow": {
     "slide_type": "subslide"
    }
   },
   "source": [
    "<div align=\"center\">\n",
    "    Последовательная обработка фиксированного входа\n",
    "    <img src=\"images/house_read.gif\" alt=\"house_read\" width=300 />\n",
    "</div>\n",
    "    \n",
    "[J. Ba, V. Mnih, K. Kavukcuoglu. Multiple Object Recognition with Visual Attention](https://arxiv.org/abs/1412.7755)"
   ]
  },
  {
   "cell_type": "markdown",
   "metadata": {
    "slideshow": {
     "slide_type": "subslide"
    }
   },
   "source": [
    "<div align=\"center\">\n",
    "    Последовательная обработка для фиксированного выхода\n",
    "    <img src=\"images/house_generate.gif\" alt=\"house_generate\" width=500 />\n",
    "</div>\n",
    "\n",
    "[K. Gregor, I. Danihelka, A. Graves, D. J. Rezende, D. Wierstra. DRAW: A Recurrent Neural Network For Image Generation](https://arxiv.org/abs/1502.04623)"
   ]
  },
  {
   "cell_type": "markdown",
   "metadata": {
    "slideshow": {
     "slide_type": "subslide"
    }
   },
   "source": [
    "### Рекуррентная нейронная сеть\n",
    "\n",
    "<div align=\"center\">\n",
    "    <img src=\"images/rnn_scheme.png\" width=200/>\n",
    "</div>\n"
   ]
  },
  {
   "cell_type": "markdown",
   "metadata": {
    "slideshow": {
     "slide_type": "subslide"
    }
   },
   "source": [
    "### Рекуррентная нейронная сеть\n",
    "\n",
    "Обычно хотим что-то предсказать :)\n",
    "\n",
    "<div align=\"center\">\n",
    "    <img src=\"images/rnn_scheme_y.png\" width=200/>\n",
    "</div>\n"
   ]
  },
  {
   "cell_type": "markdown",
   "metadata": {
    "slideshow": {
     "slide_type": "subslide"
    }
   },
   "source": [
    "### Рекуррентная нейронная сеть\n",
    "\n",
    "Обрабатываем последовательность векторов $x$ **одной и той же** функцией с параметрами:\n",
    "\n",
    "$$ h_t = f_W(h_{t-1}, x_t)$$\n",
    "\n",
    "$f_W$ — функция, параметризованная $W$\n",
    "\n",
    "$x_t$ — очередной входной вектор\n",
    "\n",
    "$h_t$ — скрытое состояние\n"
   ]
  },
  {
   "cell_type": "markdown",
   "metadata": {
    "slideshow": {
     "slide_type": "subslide"
    }
   },
   "source": [
    "### Простейшая (vanilla) рекуррентная нейронная сеть\n",
    "\n",
    "Оставляем один скрытый вектор $h$:\n",
    "\n",
    "$$ h_t = f_W(h_{t-1}, x_t)$$\n",
    "\n",
    "В качестве функции $f_W$ задаём линейное преобразование с нелинейной «сигмоидой» по компонентам:\n",
    "\n",
    "$$ h_t = \\tanh (W_{hh} h_{t-1} + W_{xh} x_t) \\\\\n",
    "   y_t = W_{hy} h_t\n",
    "$$\n"
   ]
  },
  {
   "cell_type": "code",
   "execution_count": 1,
   "metadata": {
    "slideshow": {
     "slide_type": "subslide"
    }
   },
   "outputs": [
    {
     "data": {
      "image/png": "[encoded data removed]",
      "text/plain": [
       "<Figure size 1008x432 with 1 Axes>"
      ]
     },
     "metadata": {
      "needs_background": "light"
     },
     "output_type": "display_data"
    }
   ],
   "source": [
    "import matplotlib.pyplot as plt\n",
    "import numpy as np\n",
    "\n",
    "fig, ax = plt.subplots(1, 1)\n",
    "\n",
    "ax.set_xlabel('tanh')\n",
    "\n",
    "x = np.linspace(-3.5, 3.5, num=100)\n",
    "tanh = np.tanh(x) \n",
    "ax.plot(x, tanh, 'r--', label='tanh')\n",
    "\n",
    "ax.grid(True)\n",
    "\n",
    "fig.set_size_inches(14, 6)\n",
    "\n",
    "plt.show()"
   ]
  },
  {
   "cell_type": "markdown",
   "metadata": {
    "slideshow": {
     "slide_type": "subslide"
    }
   },
   "source": [
    "### Пример модели на уровне символов\n",
    "\n",
    " * Весь словарь из четырёх букв: $[h, e, l, o]$\n",
    "\n",
    "<div align=\"center\">\n",
    "    <img src=\"images/rnn_char_level_example.jpg\" width=500/>\n",
    "</div>\n",
    "\n",
    " * к значениям выходного слоя для получения функции потерь ещё применяется *softmax*\n",
    "\n",
    "Реализация на numpy:\n",
    "https://gist.github.com/karpathy/d4dee566867f8291f086\n"
   ]
  },
  {
   "cell_type": "markdown",
   "metadata": {
    "slideshow": {
     "slide_type": "subslide"
    }
   },
   "source": [
    "### Загрузка данных"
   ]
  },
  {
   "cell_type": "code",
   "execution_count": 2,
   "metadata": {
    "slideshow": {
     "slide_type": "fragment"
    }
   },
   "outputs": [
    {
     "name": "stdout",
     "output_type": "stream",
     "text": [
      "data has 61609 characters, 83 unique.\n"
     ]
    }
   ],
   "source": [
    "\"\"\"\n",
    "Minimal character-level Vanilla RNN model. Written by Andrej Karpathy (@karpathy)\n",
    "BSD License\n",
    "\"\"\"\n",
    "import numpy as np\n",
    "\n",
    "# data I/O\n",
    "data = open('input.txt', 'r').read() # should be simple plain text file\n",
    "chars = list(set(data))\n",
    "data_size, vocab_size = len(data), len(chars)\n",
    "print('data has %d characters, %d unique.' % (data_size, vocab_size))\n",
    "char_to_ix = { ch:i for i,ch in enumerate(chars) }\n",
    "ix_to_char = { i:ch for i,ch in enumerate(chars) }"
   ]
  },
  {
   "cell_type": "code",
   "execution_count": 7,
   "metadata": {
    "slideshow": {
     "slide_type": "fragment"
    }
   },
   "outputs": [
    {
     "data": {
      "text/plain": [
       "'C . # X f   i A N ” 1 e 2 R U © h “ z * a y ‘ Z u 8 b n m – B c Y s r … k : x l 5 , — 3 Q L g v D G ; 6 p I H O ’ - F J q E / t \\n S 7 4 o d T K 9 j & W 0 V ! P ? w M'"
      ]
     },
     "execution_count": 7,
     "metadata": {},
     "output_type": "execute_result"
    }
   ],
   "source": [
    "' '.join(chars)"
   ]
  },
  {
   "cell_type": "markdown",
   "metadata": {
    "slideshow": {
     "slide_type": "subslide"
    }
   },
   "source": [
    "### Инициализация"
   ]
  },
  {
   "cell_type": "code",
   "execution_count": 7,
   "metadata": {
    "slideshow": {
     "slide_type": "fragment"
    }
   },
   "outputs": [],
   "source": [
    "# hyperparameters\n",
    "hidden_size = 100 # size of hidden layer of neurons\n",
    "seq_length = 25 # number of steps to unroll the RNN for\n",
    "learning_rate = 1e-1\n",
    "\n",
    "# model parameters\n",
    "Wxh = np.random.randn(hidden_size, vocab_size)*0.01 # input to hidden\n",
    "Whh = np.random.randn(hidden_size, hidden_size)*0.01 # hidden to hidden\n",
    "Why = np.random.randn(vocab_size, hidden_size)*0.01 # hidden to output\n",
    "bh = np.zeros((hidden_size, 1)) # hidden bias\n",
    "by = np.zeros((vocab_size, 1)) # output bias"
   ]
  },
  {
   "cell_type": "markdown",
   "metadata": {
    "slideshow": {
     "slide_type": "fragment"
    }
   },
   "source": [
    "<div align=\"left\">\n",
    "    <img src=\"images/rnn_char_level_example.jpg\" width=400/>\n",
    "</div>"
   ]
  },
  {
   "cell_type": "markdown",
   "metadata": {
    "slideshow": {
     "slide_type": "subslide"
    }
   },
   "source": [
    "### Основной цикл"
   ]
  },
  {
   "cell_type": "code",
   "execution_count": 18,
   "metadata": {
    "slideshow": {
     "slide_type": "fragment"
    }
   },
   "outputs": [],
   "source": [
    "n, p = 0, 0\n",
    "mWxh, mWhh, mWhy = np.zeros_like(Wxh), np.zeros_like(Whh), np.zeros_like(Why)\n",
    "mbh, mby = np.zeros_like(bh), np.zeros_like(by) # memory variables for Adagrad\n",
    "smooth_loss = -np.log(1.0/vocab_size)*seq_length # loss at iteration 0"
   ]
  },
  {
   "cell_type": "code",
   "execution_count": 31,
   "metadata": {
    "scrolled": true,
    "slideshow": {
     "slide_type": "subslide"
    }
   },
   "outputs": [
    {
     "name": "stdout",
     "output_type": "stream",
     "text": [
      "----\n",
      " ethon bonciont, tholany aysigimed awr dome hiate stat up onzeause, she revoryly ampoul suapent’s that fally the concave hat?”\n",
      "\n",
      "Ye Zhet. In sten the burt sbe, wave san ins matcourted with. She lavely s \n",
      "----\n",
      "iter 500000, loss: 42.647056\n"
     ]
    }
   ],
   "source": [
    "while n < 5*10**5 + 1000: #True \n",
    "    # prepare inputs (we're sweeping from left to right in steps seq_length long)\n",
    "    if p+seq_length+1 >= len(data) or n == 0: \n",
    "        hprev = np.zeros((hidden_size,1)) # reset RNN memory\n",
    "        p = 0 # go from start of data\n",
    "    inputs = [char_to_ix[ch] for ch in data[p:p+seq_length]]\n",
    "    targets = [char_to_ix[ch] for ch in data[p+1:p+seq_length+1]]\n",
    "  \n",
    "    # sample from the model now and then\n",
    "    if n % 1000 == 0:\n",
    "        sample_ix = sample(hprev, inputs[0], 200)\n",
    "        txt = ''.join(ix_to_char[ix] for ix in sample_ix)\n",
    "        print('----\\n %s \\n----' % (txt, ))\n",
    "  \n",
    "    # forward seq_length characters through the net and fetch gradient\n",
    "    loss, dWxh, dWhh, dWhy, dbh, dby, hprev = lossFun(inputs, targets, hprev)\n",
    "    smooth_loss = smooth_loss * 0.999 + loss * 0.001\n",
    "    if n % 1000 == 0: \n",
    "        print('iter %d, loss: %f' % (n, smooth_loss)) # print progress\n",
    "    \n",
    "    # perform parameter update with Adagrad\n",
    "    for param, dparam, mem in zip([Wxh, Whh, Why, bh, by], \n",
    "                                  [dWxh, dWhh, dWhy, dbh, dby], \n",
    "                                  [mWxh, mWhh, mWhy, mbh, mby]):\n",
    "        mem += dparam * dparam\n",
    "        param += -learning_rate * dparam / np.sqrt(mem + 1e-8) # adagrad update\n",
    "  \n",
    "    p += seq_length # move data pointer\n",
    "    n += 1 # iteration counter "
   ]
  },
  {
   "cell_type": "markdown",
   "metadata": {
    "slideshow": {
     "slide_type": "subslide"
    }
   },
   "source": [
    "### Функция потерь\n",
    "\n",
    " * прямой проход для расчета потерь\n",
    " * обратное распространение ошибки (backpropagation)\n"
   ]
  },
  {
   "cell_type": "markdown",
   "metadata": {
    "slideshow": {
     "slide_type": "subslide"
    }
   },
   "source": [
    "Обозначим компоненты вектора вероятностей символов (классов) на выходе RNN через\n",
    "$$ p_k = \\frac{e^{f_k}}{\\sum\\limits_j e^{f_j}}$$\n",
    "\n",
    "Тогда значение функции потерь на очередном объекте $x_i$\n",
    "$$ L_i = -\\ln (p_{y_i})$$\n",
    "\n",
    "Тогда можно прямым вычислением производной получить\n",
    "$$ \\frac{\\partial L_i}{\\partial f_k} = p_k - 1(y_i = k)$$"
   ]
  },
  {
   "cell_type": "code",
   "execution_count": 17,
   "metadata": {
    "slideshow": {
     "slide_type": "subslide"
    }
   },
   "outputs": [],
   "source": [
    "def lossFun(inputs, targets, hprev):\n",
    "    \"\"\"\n",
    "    inputs,targets are both list of integers.\n",
    "    hprev is Hx1 array of initial hidden state\n",
    "    returns the loss, gradients on model parameters, and last hidden state\n",
    "    \"\"\"\n",
    "    xs, hs, ys, ps = {}, {}, {}, {}\n",
    "    hs[-1] = np.copy(hprev)\n",
    "    loss = 0\n",
    "    # forward pass\n",
    "    for t in range(len(inputs)):\n",
    "        xs[t] = np.zeros((vocab_size,1)) # encode in 1-of-k representation\n",
    "        xs[t][inputs[t]] = 1\n",
    "        hs[t] = np.tanh(np.dot(Wxh, xs[t]) + np.dot(Whh, hs[t-1]) + bh) # hidden state\n",
    "        ys[t] = np.dot(Why, hs[t]) + by # unnormalized log probabilities for next chars\n",
    "        ps[t] = np.exp(ys[t]) / np.sum(np.exp(ys[t])) # probabilities for next chars\n",
    "        loss += -np.log(ps[t][targets[t],0]) # softmax (cross-entropy loss)\n",
    "    # backward pass: compute gradients going backwards\n",
    "    dWxh, dWhh, dWhy = np.zeros_like(Wxh), np.zeros_like(Whh), np.zeros_like(Why)\n",
    "    dbh, dby = np.zeros_like(bh), np.zeros_like(by)\n",
    "    dhnext = np.zeros_like(hs[0])\n",
    "    for t in reversed(range(len(inputs))):\n",
    "        dy = np.copy(ps[t])\n",
    "        dy[targets[t]] -= 1 # backprop into y. see http://cs231n.github.io/neural-networks-case-study/#grad if confused here\n",
    "        dWhy += np.dot(dy, hs[t].T)\n",
    "        dby += dy\n",
    "        dh = np.dot(Why.T, dy) + dhnext # backprop into h\n",
    "        dhraw = (1 - hs[t] * hs[t]) * dh # backprop through tanh nonlinearity\n",
    "        dbh += dhraw\n",
    "        dWxh += np.dot(dhraw, xs[t].T)\n",
    "        dWhh += np.dot(dhraw, hs[t-1].T)\n",
    "        dhnext = np.dot(Whh.T, dhraw)\n",
    "    for dparam in [dWxh, dWhh, dWhy, dbh, dby]:\n",
    "        np.clip(dparam, -5, 5, out=dparam) # clip to mitigate exploding gradients\n",
    "    return loss, dWxh, dWhh, dWhy, dbh, dby, hs[len(inputs)-1]"
   ]
  },
  {
   "cell_type": "code",
   "execution_count": 15,
   "metadata": {
    "slideshow": {
     "slide_type": "subslide"
    }
   },
   "outputs": [],
   "source": [
    "def sample(h, seed_ix, n):\n",
    "    \"\"\" \n",
    "    sample a sequence of integers from the model \n",
    "    h is memory state, seed_ix is seed letter for first time step\n",
    "    \"\"\"\n",
    "    x = np.zeros((vocab_size, 1))\n",
    "    x[seed_ix] = 1\n",
    "    ixes = []\n",
    "    for t in range(n):\n",
    "        h = np.tanh(np.dot(Wxh, x) + np.dot(Whh, h) + bh)\n",
    "        y = np.dot(Why, h) + by\n",
    "        p = np.exp(y) / np.sum(np.exp(y))\n",
    "        ix = np.random.choice(range(vocab_size), p=p.ravel())\n",
    "        x = np.zeros((vocab_size, 1))\n",
    "        x[ix] = 1\n",
    "        ixes.append(ix)\n",
    "    return ixes"
   ]
  },
  {
   "cell_type": "markdown",
   "metadata": {
    "slideshow": {
     "slide_type": "subslide"
    }
   },
   "source": [
    "### 0 итераций\n",
    "\n",
    "----\n",
    " *t1HCnzGO––3A tnqt\n",
    "zjhfCh\n",
    "s4”27cqI? np…2‘—N.is;J&Y  * 5WwaSSgaeW3n8.Vtx18m9qsU\n",
    "9– * oh,’!u’gimp9?;rofmkB4#C8drK’M…2 1/ E!’ wHLHv&:O‘Gcbg!‘M6 i–o,IAdjb–cK;s/BFJ#dH NOI7W.4rE9!3gh6c.*7TyHoA.-?Uu\n",
    "?eKrH1S\n",
    "\n",
    "----\n",
    "\n",
    "### 1000 итераций\n",
    "----\n",
    " d s hose9rgl.cho  t  idorhiti tmnt l ayn  she trd lrdry  tosi…tet ulsnnf nosctnea  ’oloutTtdlea\n",
    "gruc’saN a r oaeed sly nuGtsmhney tee Yh*tYs iameaplo d ieWe rtee oeeovottoehgnR o rgalt hp c. rmsesloni \n",
    "\n",
    "----\n",
    "\n",
    "### $10^4$ итераций\n",
    "----\n",
    " itiowor\n",
    "\n",
    "\n",
    "1 atta tottzopito pot.   7 The Yeftheg allelse Garel.\n",
    "\n",
    ":\n",
    "3*don Yemang Ret anke alen Awuwe hime avesclac mowt oaly felact ensiline anon Insadnmede afty or, honsilander cueleng Nonatont’e the  \n",
    "\n",
    "----\n"
   ]
  },
  {
   "cell_type": "markdown",
   "metadata": {
    "slideshow": {
     "slide_type": "subslide"
    }
   },
   "source": [
    "### $10^5$ итераций\n",
    "\n",
    "----\n",
    "\n",
    " t yed arn crilvely nill and sook reagit thiece mo freatt to was asle to the ence the you the cranit, and the Rea licters thathere in who be tow bes rown tails and recoI was fertarjoole plepletine the  \n",
    "\n",
    "----\n",
    "\n",
    "### $5*10^5$ итераций\n",
    "\n",
    "----\n",
    " ethon bonciont, tholany aysigimed awr dome hiate stat up onzeause, she revoryly ampoul suapent’s that fally the concave hat?”\n",
    "\n",
    "Ye Zhet. In sten the burt sbe, wave san ins matcourted with. She lavely s \n",
    "\n",
    "----\n"
   ]
  },
  {
   "cell_type": "markdown",
   "metadata": {
    "slideshow": {
     "slide_type": "subslide"
    }
   },
   "source": [
    "### Резюме\n",
    "\n",
    " * Рекуррентные нейронные сети — простой, мощный и гибкий подход решения различных задач машинного обучения\n",
    " * Даже на vanilla RNN уже можно обучать и генерировать интересное\n",
    "   \n",
    "### Что ещё можно посмотреть?\n",
    " * Лекция 10 курса «CS231n» Andrej Karpathy в Стенфорде: https://www.youtube.com/watch?v=iX5V1WpxxkY\n",
    " * Как тренировать нейросети? http://karpathy.github.io/2019/04/25/recipe/\n",
    " * Аналогичное занятие курса Школы анализа данных: https://github.com/yandexdataschool/Practical_DL/tree/fall21/week06_rnn"
   ]
  }
 ],
 "metadata": {
  "celltoolbar": "Slideshow",
  "kernelspec": {
   "display_name": "Python 3 (ipykernel)",
   "language": "python",
   "name": "python3"
  },
  "language_info": {
   "codemirror_mode": {
    "name": "ipython",
    "version": 3
   },
   "file_extension": ".py",
   "mimetype": "text/x-python",
   "name": "python",
   "nbconvert_exporter": "python",
   "pygments_lexer": "ipython3",
   "version": "3.9.7"
  }
 },
 "nbformat": 4,
 "nbformat_minor": 2
}
