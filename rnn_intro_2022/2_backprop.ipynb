{
 "cells": [
  {
   "cell_type": "markdown",
   "metadata": {
    "slideshow": {
     "slide_type": "slide"
    }
   },
   "source": [
    "<div align=\"center\">\n",
    "    <img src=\"images/logo_fmkn.png\" alt=\"logo_fmkn\" />\n",
    "</div>\n",
    "\n",
    "# Введение в рекуррентные нейронные сети\n",
    "\n",
    "### Занятие 2. Обратное распространение ошибки (backpropagation)\n",
    "\n",
    "<br />\n",
    "<br />\n",
    "16-17 января 2022"
   ]
  },
  {
   "cell_type": "markdown",
   "metadata": {
    "slideshow": {
     "slide_type": "subslide"
    }
   },
   "source": [
    "### Нейронная сеть как комбинация линейных моделей (напоминание)\n",
    "\n",
    "<div align=\"center\">\n",
    "    <img src=\"images/nn_two_layers_cropped.jpg\" alt=\"nn_two_layers_cropped\" width=700 />\n",
    "</div>\n"
   ]
  },
  {
   "cell_type": "markdown",
   "metadata": {
    "slideshow": {
     "slide_type": "subslide"
    }
   },
   "source": [
    "### Линейный классификатор (напоминание)\n",
    "\n",
    "Предсказание $$ y_{pred} = x \\cdot W + b $$\n",
    "\n",
    "<div align=\"center\">\n",
    "    <img src=\"images/linear_classification_scheme.jpg\" width=700/>\n",
    "    $x\\quad\\quad\\quad\\cdot\\quad W\\quad\\quad\\quad+\\quad b$\n",
    "</div>\n"
   ]
  },
  {
   "cell_type": "markdown",
   "metadata": {
    "slideshow": {
     "slide_type": "subslide"
    }
   },
   "source": [
    "### Нейронная сеть\n",
    "\n",
    "<div align=\"center\">\n",
    "    <img src=\"images/nn_scheme.jpg\" width=700/>\n",
    "</div>\n"
   ]
  },
  {
   "cell_type": "markdown",
   "metadata": {
    "slideshow": {
     "slide_type": "subslide"
    }
   },
   "source": [
    "### Нелинейные функции: ReLU, PReLU (LeakyReLU)\n",
    "\n",
    " $$\\text{ReLU}(y) = \\max(0, y), \\\\ \\text{PReLU}(y) = \\max(0, y) + \\alpha\\min(0, y)$$\n"
   ]
  },
  {
   "cell_type": "code",
   "execution_count": 15,
   "metadata": {
    "slideshow": {
     "slide_type": "subslide"
    }
   },
   "outputs": [
    {
     "data": {
      "image/png": "[encoded data removed]",
      "text/plain": [
       "<Figure size 1008x432 with 2 Axes>"
      ]
     },
     "metadata": {
      "needs_background": "light"
     },
     "output_type": "display_data"
    }
   ],
   "source": [
    "import matplotlib.pyplot as plt\n",
    "import numpy as np\n",
    "\n",
    "fig, (ax1, ax2) = plt.subplots(1, 2)\n",
    "\n",
    "ax1.set_xlabel('ReLU')\n",
    "ax2.set_xlabel('PReLU')\n",
    "\n",
    "x1 = np.linspace(-1.1, 1.1, num=100)\n",
    "ReLU = np.maximum([0] * len(x1), x1) \n",
    "ax1.plot(x1, ReLU, 'r', label='ReLU')\n",
    "ax1.set_ylim(-0.5, 1.1)\n",
    "\n",
    "x2 = np.linspace(-1.1, 1.1, num=100)\n",
    "alpha = 0.1\n",
    "PReLU = np.maximum([0] * len(x2), x2) + alpha * np.minimum([0] * len(x2), x2)\n",
    "ax2.plot(x2, PReLU, 'r--', label='PReLU')\n",
    "ax2.set_ylim(-0.5, 1.1)\n",
    "\n",
    "ax1.grid(True)\n",
    "ax2.grid(True)\n",
    "\n",
    "fig.set_size_inches(14, 6)\n"
   ]
  },
  {
   "cell_type": "markdown",
   "metadata": {
    "slideshow": {
     "slide_type": "subslide"
    }
   },
   "source": [
    "### Функция потерь (напоминание)\n",
    "\n",
    "$$ L(W, b) = - \\sum\\limits_j \\ln \\frac{e^{(x_jW + b)_{y_j}}}{\\sum\\limits_i e^{(x_jW + b)_{i}}} + \\lambda R(W, b) \\\\\n",
    "   R(W, b) = \\|W\\|_2^2 + \\|b\\|_2^2\n",
    "$$\n"
   ]
  },
  {
   "cell_type": "markdown",
   "metadata": {
    "slideshow": {
     "slide_type": "subslide"
    }
   },
   "source": [
    "<div class=\"alert alert-info\">\n",
    "<b>Вопрос 1:</b> Как посчитать градиенты $\\frac{\\partial L}{\\partial W}$ и $\\frac{\\partial L}{\\partial b}$?\n",
    "</div>"
   ]
  },
  {
   "cell_type": "markdown",
   "metadata": {
    "slideshow": {
     "slide_type": "fragment"
    }
   },
   "source": [
    "### Метод обратного распространения ошибки"
   ]
  },
  {
   "cell_type": "markdown",
   "metadata": {
    "slideshow": {
     "slide_type": "subslide"
    }
   },
   "source": [
    "### Граф вычислений\n",
    "\n",
    "Внесём $b$ в $W$\n",
    "\n",
    "$$ L(W) = - \\sum\\limits_j \\ln p(c = y_j|x_j) + \\lambda R(W) $$\n",
    "\n",
    "<div align=\"center\">\n",
    "    <img src=\"images/graph_calc.png\" width=800/>\n",
    "</div>\n",
    "\n",
    "Хотим найти градиенты функции потерь $L$ по всем входам графа вычислений.\n"
   ]
  },
  {
   "cell_type": "markdown",
   "metadata": {
    "slideshow": {
     "slide_type": "subslide"
    }
   },
   "source": [
    "### Простой пример\n",
    "\n",
    "Производная сложной функции $f(g(x))\\ \\ \\to \\frac{df}{dx} = \\frac{df}{dg} \\frac{dg}{dx}$\n",
    "\n",
    "Пусть $f(x, w) = 1 + e^{w_1x + w_0}$\n",
    "\n",
    "<div align=\"center\">\n",
    "    <img src=\"images/simple_graph.png\" width=600/>\n",
    "</div>\n",
    "\n",
    "$$ \\frac{\\partial f}{\\partial f} = 1, \\ f = c + 1, \\ dc = \\frac{\\partial f}{\\partial c} = 1, \\dots$$\n"
   ]
  },
  {
   "cell_type": "markdown",
   "metadata": {
    "slideshow": {
     "slide_type": "subslide"
    }
   },
   "source": [
    "### Общая схема вычисления градиента\n",
    "\n",
    "<div align=\"center\">\n",
    "    <img src=\"images/backprop_scheme.png\" width=400/>\n",
    "</div>\n"
   ]
  },
  {
   "cell_type": "markdown",
   "metadata": {
    "slideshow": {
     "slide_type": "subslide"
    }
   },
   "source": [
    "### Метод обратного распространения ошибки (backpropagation)\n",
    "\n",
    "В итоге мы смогли вычислить все градиенты простыми операциями обратным проходом по графу\n",
    "\n",
    " * не выписывали всю производную целиком аналитически\n",
    " * на каждом шаге дифференцировали простую функцию\n",
    " * за один проход по графу вычислений\n",
    " * возможно распараллеливание"
   ]
  },
  {
   "cell_type": "markdown",
   "metadata": {
    "slideshow": {
     "slide_type": "subslide"
    }
   },
   "source": [
    "### В случае двуслойной нейросети\n",
    "\n",
    "Выходные значения сети $a^m(x_i), m = 1 \\dots M$ на объекте $x_i$:\n",
    "\n",
    "$a^m(x_i) = \\sigma_m \\left( \\sum\\limits_{h=0}^H w_{hm} \\color{red}{u^h(x_i)} \\right)$\n",
    "\n",
    "$\\color{red}{u^h(x_i)} = \\sigma_h \\left( \\sum\\limits_{j=0}^J w_{jh} f_j(x_i) \\right)$\n",
    "\n",
    "Пусть для определенности\n",
    "\n",
    "$\\mathcal{L}_i (w) = \\frac12 \\sum\\limits_{m=1}^M (a^m(x_i) - y_i^m)^2$\n",
    "\n",
    "**Промежуточная задача**: частные производные\n",
    "\n",
    "$\\frac{\\partial \\mathcal{L}_i(w)}{\\partial a^m},\\ \\ \\frac{\\partial \\mathcal{L}_i(w)}{\\partial u^h}$\n"
   ]
  },
  {
   "cell_type": "markdown",
   "metadata": {
    "slideshow": {
     "slide_type": "subslide"
    }
   },
   "source": [
    "### Быстрое дифференцирование. Вспомогательные градиенты\n",
    "\n",
    "**Промежуточная задача**: частные производные\n",
    "\n",
    "$\\frac{\\partial \\mathcal{L}_i(w)}{\\partial a^m} = a^m(x_i) - y_i^m = \\varepsilon_i^m$\n",
    "\n",
    "— это ошибка на выходном слое (для квадратичных потерь);\n",
    "\n",
    "$\\frac{\\partial \\mathcal{L}_i(w)}{\\partial u^h} = \\sum\\limits_{m=1}^M (a^m(x_i) - y_i^m) \\sigma_m^\\prime w_{hm} = \n",
    " \\sum\\limits_{m=1}^M \\varepsilon_i^m \\sigma_m^\\prime w_{hm} = \\varepsilon_i^h$\n",
    "\n",
    "— назовём это *ошибкой на скрытом слое*.\n",
    "\n",
    "Получается, что $\\varepsilon_i^h$ вычисляется по $\\varepsilon_i^m$, если запустить сеть «задом наперёд»:\n",
    "\n",
    "<div align=\"center\">\n",
    "    <img src=\"images/backprop_eps.jpg\" width=400/>\n",
    "</div>\n"
   ]
  },
  {
   "cell_type": "markdown",
   "metadata": {
    "slideshow": {
     "slide_type": "subslide"
    }
   },
   "source": [
    "### Быстрое вычисление градиента\n",
    "\n",
    "Теперь, имея частные производные $\\mathcal{L}_i(w)$ по $a^m$ и $u^h$, легко выписать градиент $\\mathcal{L}_i(w)$ по весам $w$:\n",
    "\n",
    "$\\frac{\\partial \\mathcal{L}_i(w)}{\\partial w_{hm}} = \\frac{\\partial \\mathcal{L}_i(w)}{\\partial a^m} \\frac{\\partial a^m}{\\partial w_{hm}} = \\varepsilon_i^m \\sigma^\\prime_m u^h(x_i), \\\\ m = 1, \\dots, M, h = 0, \\dots, H$\n",
    "\n",
    "$\\frac{\\partial \\mathcal{L}_i(w)}{\\partial w_{jh}} = \\frac{\\partial \\mathcal{L}_i(w)}{\\partial u^h} \\frac{\\partial u^h}{\\partial w_{jh}} = \\varepsilon_i^h \\sigma^\\prime_h f_j(x_i), \\\\ h = 1, \\dots, H, j = 0, \\dots, n$\n"
   ]
  },
  {
   "cell_type": "markdown",
   "metadata": {
    "slideshow": {
     "slide_type": "subslide"
    }
   },
   "source": [
    "### Алгоритм обратного распространения ошибки (BackPropagation)\n",
    "\n",
    "1. инициализировать веса $w_{jh}, w_{hm}$\n",
    "\n",
    "2. **повторять**\n",
    "    3. выбрать объект $x_i$ из $X^\\ell$ (например, случайно)\n",
    "    4. прямой ход\n",
    "    \n",
    "    $u_i^h = \\sigma_h \\left(\\sum_{j=0}^J w_{jh}x_i^j \\right), h = 1, \\dots, H$\n",
    "    \n",
    "    $a_i^m = \\sigma_m \\left(\\sum_{h=0}^H w_{hm}u_i^h \\right), \\varepsilon_i^m = a_i^m - y_i^m, m =  1, \\dots, M$\n",
    "    \n",
    "    $\\mathcal{L}_i = \\sum_{m=1}^M (\\varepsilon_i^m)^2$\n",
    "\n",
    "    5. обратный ход \n",
    "    \n",
    "    $\\varepsilon_i^h =\\sum\\limits_{m=1}^M \\varepsilon_i^m \\sigma_m^\\prime w_{hm}, h = 1\\dots H$\n",
    "\n",
    "    6. градиентный шаг\n",
    "    \n",
    "    $w_{hm} = w_{hm} - \\eta \\varepsilon_i^m\\sigma_m^\\prime u_i^h, h = 0, \\dots, H, m = 1\\dots M$\n",
    "\n",
    "    $w_{jh} = w_{jh} - \\eta \\varepsilon_i^h\\sigma_h^\\prime x_i^j, j = 0, \\dots, n, h = 1\\dots H$\n",
    "\n",
    "    7. $Q = (1 - \\lambda)Q + \\lambda \\mathcal{L}_i$\n",
    "\n",
    "8. **пока** Q не стабилизируется"
   ]
  },
  {
   "cell_type": "markdown",
   "metadata": {
    "slideshow": {
     "slide_type": "subslide"
    }
   },
   "source": [
    "### Резюме\n",
    "\n",
    " * BackPropagation =  быстрое дифференцирование суперпозиций. Позволяет обучать сети практически любой конфигурации\n",
    " * Методы улучшения сходимости и качества:\n",
    "   - обучение по мини-подвыборкам (mini-batch)\n",
    "   - различные функции активации\n",
    " * Не было на этой лекции\n",
    "   - различные алгоритмы оптимизации: adam, RMSProp\n",
    "   - dropout\n",
    "   - выбор начального приближения\n",
    "   \n",
    "### Что ещё можно посмотреть?\n",
    " * Лекция 3 курса «DL на пальцах» Семена Козлова: https://www.youtube.com/watch?v=kWTC1NvL894\n",
    " * 3blue1brown: https://www.youtube.com/watch?v=Ilg3gGewQ5U\n",
    " * В курсе Стенфорда: http://cs231n.github.io/optimization-2/\n",
    "   "
   ]
  }
 ],
 "metadata": {
  "celltoolbar": "Slideshow",
  "kernelspec": {
   "display_name": "Python 3 (ipykernel)",
   "language": "python",
   "name": "python3"
  },
  "language_info": {
   "codemirror_mode": {
    "name": "ipython",
    "version": 3
   },
   "file_extension": ".py",
   "mimetype": "text/x-python",
   "name": "python",
   "nbconvert_exporter": "python",
   "pygments_lexer": "ipython3",
   "version": "3.9.7"
  }
 },
 "nbformat": 4,
 "nbformat_minor": 2
}
